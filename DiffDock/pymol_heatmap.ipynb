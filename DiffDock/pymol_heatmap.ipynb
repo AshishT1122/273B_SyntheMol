{
 "cells": [
  {
   "cell_type": "code",
   "execution_count": 1,
   "metadata": {},
   "outputs": [],
   "source": [
    "import pandas as pd\n",
    "import numpy as np\n",
    "from rdkit import Chem\n",
    "import matplotlib.pyplot as plt\n",
    "from matplotlib.colors import Normalize\n",
    "import seaborn as sns\n",
    "import pymol\n",
    "from pymol import cmd\n",
    "from pymol.cgo import COLOR, ALPHA, SPHERE"
   ]
  },
  {
   "cell_type": "code",
   "execution_count": 2,
   "metadata": {},
   "outputs": [],
   "source": [
    "df = pd.read_csv('model_data.csv')\n",
    "df = pd.concat([df[df['Comment'] == 'inactive'].sample(20), df[df['Comment'] == 'active'].sample(20)])\n",
    "\n",
    "# Extract file paths\n",
    "active_sdf_files = [f\"diffdock_chembl_output/{row['Molecule ChEMBL ID']}/{row['Filepath']}\" for index, row in df.iterrows() if row['Comment'] == 'active']\n",
    "inactive_sdf_files = [f\"diffdock_chembl_output/{row['Molecule ChEMBL ID']}/{row['Filepath']}\" for index, row in df.iterrows() if row['Comment'] == 'inactive']\n",
    "\n",
    "# Function to extract coordinates from an SDF file\n",
    "def extract_coordinates(sdf_file):\n",
    "    mol = Chem.SDMolSupplier(sdf_file)[0]\n",
    "    conf = mol.GetConformer()\n",
    "    coords = np.array([list(conf.GetAtomPosition(i)) for i in range(mol.GetNumAtoms())])\n",
    "    return coords\n"
   ]
  },
  {
   "cell_type": "code",
   "execution_count": 3,
   "metadata": {},
   "outputs": [],
   "source": [
    "# Extract coordinates\n",
    "active_coords = [extract_coordinates(f) for f in active_sdf_files]\n",
    "inactive_coords = [extract_coordinates(f) for f in inactive_sdf_files]\n",
    "active_coords_flat = np.vstack(active_coords)\n",
    "inactive_coords_flat = np.vstack(inactive_coords)\n",
    "\n",
    "# Function to create heatmap data\n",
    "def create_heatmap_data(coords):\n",
    "    heatmap, xedges, yedges = np.histogram2d(coords[:, 0], coords[:, 1], bins=50)\n",
    "    return heatmap, xedges, yedges"
   ]
  },
  {
   "cell_type": "code",
   "execution_count": 4,
   "metadata": {},
   "outputs": [],
   "source": [
    "# Create heatmaps\n",
    "active_heatmap, xedges, yedges = create_heatmap_data(active_coords_flat)\n",
    "inactive_heatmap, xedges, yedges = create_heatmap_data(inactive_coords_flat)\n",
    "\n",
    "def create_pymol_cgo_heatmap(heatmap, xedges, yedges, color):\n",
    "    cgo = []\n",
    "    max_val = np.max(heatmap)\n",
    "    for i in range(len(xedges)-1):\n",
    "        for j in range(len(yedges)-1):\n",
    "            if heatmap[i, j] > 0:\n",
    "                alpha = heatmap[i, j] / max_val * 0.5  # Adjust alpha for transparency\n",
    "                cgo.extend([\n",
    "                    COLOR, color[0], color[1], color[2],\n",
    "                    ALPHA, alpha,\n",
    "                    SPHERE, xedges[i], yedges[j], 0, 0.5  # Adjust sphere size as needed\n",
    "                ])\n",
    "    return cgo"
   ]
  },
  {
   "cell_type": "code",
   "execution_count": 6,
   "metadata": {},
   "outputs": [],
   "source": [
    "active_cgo = create_pymol_cgo_heatmap(active_heatmap, xedges, yedges, [1.0, 0.0, 0.0])  # Red color\n",
    "inactive_cgo = create_pymol_cgo_heatmap(inactive_heatmap, xedges, yedges, [0.0, 0.0, 1.0])  # Blue color\n"
   ]
  },
  {
   "cell_type": "code",
   "execution_count": 7,
   "metadata": {},
   "outputs": [],
   "source": [
    "cmd.load(\"GLP1.pdb\")"
   ]
  },
  {
   "cell_type": "code",
   "execution_count": 8,
   "metadata": {},
   "outputs": [],
   "source": [
    "cmd.load_cgo(active_cgo, \"active_heatmap\")\n",
    "cmd.load_cgo(inactive_cgo, \"inactive_heatmap\")"
   ]
  },
  {
   "cell_type": "code",
   "execution_count": 9,
   "metadata": {},
   "outputs": [],
   "source": [
    "cmd.set('cgo_transparency', 0.8)  # Set transparency level\n",
    "cmd.set('transparency', 0.2, \"GLP1\")\n",
    "cmd.show(\"surface\", \"GLP1\")  # Show surface for GLP1\n",
    "cmd.color(\"gray70\", \"GLP1\")  # Color GLP1 surface"
   ]
  },
  {
   "cell_type": "code",
   "execution_count": 13,
   "metadata": {},
   "outputs": [
    {
     "name": "stdout",
     "output_type": "stream",
     "text": [
      "Active CGO length: 4246\n",
      "Inactive CGO length: 4059\n"
     ]
    }
   ],
   "source": [
    "print(f\"Active CGO length: {len(active_cgo)}\")\n",
    "print(f\"Inactive CGO length: {len(inactive_cgo)}\")"
   ]
  },
  {
   "cell_type": "code",
   "execution_count": 14,
   "metadata": {},
   "outputs": [],
   "source": [
    "cmd.show(\"spheres\", \"active_heatmap\")\n",
    "cmd.show(\"spheres\", \"inactive_heatmap\")"
   ]
  },
  {
   "cell_type": "code",
   "execution_count": 15,
   "metadata": {},
   "outputs": [],
   "source": [
    "cmd.zoom(\"GLP1\")\n",
    "cmd.orient()"
   ]
  },
  {
   "cell_type": "code",
   "execution_count": 16,
   "metadata": {},
   "outputs": [],
   "source": [
    "cmd.ray(1920, 1080)"
   ]
  },
  {
   "cell_type": "code",
   "execution_count": 17,
   "metadata": {},
   "outputs": [
    {
     "data": {
      "text/plain": [
       "1"
      ]
     },
     "execution_count": 17,
     "metadata": {},
     "output_type": "execute_result"
    }
   ],
   "source": [
    "cmd.png(\"GLP1_heatmap_visualization.png\")"
   ]
  }
 ],
 "metadata": {
  "kernelspec": {
   "display_name": "diffdock2",
   "language": "python",
   "name": "python3"
  },
  "language_info": {
   "codemirror_mode": {
    "name": "ipython",
    "version": 3
   },
   "file_extension": ".py",
   "mimetype": "text/x-python",
   "name": "python",
   "nbconvert_exporter": "python",
   "pygments_lexer": "ipython3",
   "version": "3.9.19"
  }
 },
 "nbformat": 4,
 "nbformat_minor": 2
}
