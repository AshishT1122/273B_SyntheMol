{
 "cells": [
  {
   "cell_type": "code",
   "execution_count": null,
   "metadata": {},
   "outputs": [],
   "source": [
    "import pandas as pd\n",
    "import numpy as np\n",
    "from rdkit import Chem\n",
    "from rdkit.Chem import AllChem\n",
    "import matplotlib.pyplot as plt\n",
    "from matplotlib.colors import Normalize\n",
    "import seaborn as sns\n",
    "import pymol\n",
    "from pymol import cmd\n",
    "from tqdm import tqdm\n",
    "from concurrent.futures import ThreadPoolExecutor\n",
    "\n",
    "# Function to extract coordinates from an SDF file\n",
    "def extract_coordinates(sdf_file):\n",
    "    mol = Chem.SDMolSupplier(sdf_file)[0]\n",
    "    conf = mol.GetConformer()\n",
    "    coords = np.array([list(conf.GetAtomPosition(i)) for i in range(mol.GetNumAtoms())])\n",
    "    return coords\n",
    "\n",
    "# Function to create pseudoatoms in PyMOL with progress bar\n",
    "def create_pseudoatom(coord, selection_name, progress_bar):\n",
    "    cmd.pseudoatom(selection_name, pos=coord.tolist())\n",
    "    progress_bar.update(1)\n",
    "\n",
    "# Function to create heatmap in PyMOL with parallel processing\n",
    "def create_heatmap_pymol_parallel(coords, selection_name, color):\n",
    "    with tqdm(total=len(coords), desc=f\"Processing {selection_name}\") as progress_bar:\n",
    "        with ThreadPoolExecutor(256) as executor:\n",
    "            futures = [executor.submit(create_pseudoatom, coord, selection_name, progress_bar) for coord in coords]\n",
    "            for future in futures:\n",
    "                future.result()  # Wait for all threads to complete\n",
    "\n",
    "    cmd.map_new(selection_name + '_map', 'gaussian', 1, selection_name)\n",
    "    cmd.isosurface(selection_name + '_surface', selection_name + '_map', level=1)\n",
    "    cmd.color(color, selection_name + '_surface')\n",
    "    cmd.show_as('surface', selection_name + '_surface')"
   ]
  },
  {
   "cell_type": "code",
   "execution_count": null,
   "metadata": {},
   "outputs": [],
   "source": [
    "# Step 1: Read the CSV file and categorize molecules\n",
    "df = pd.read_csv('model_data.csv')\n",
    "active_sdf_files = []\n",
    "inactive_sdf_files = []\n",
    "\n",
    "for index, row in df.iterrows():\n",
    "    if row['Comment'] == 'active':\n",
    "        active_sdf_files.append(f\"diffdock_chembl_output/{row['Molecule ChEMBL ID']}/{row['Filepath']}\")\n",
    "    else:\n",
    "        inactive_sdf_files.append(f\"diffdock_chembl_output/{row['Molecule ChEMBL ID']}/{row['Filepath']}\")"
   ]
  },
  {
   "cell_type": "code",
   "execution_count": null,
   "metadata": {},
   "outputs": [],
   "source": [
    "# Step 2: Extract coordinates for active and inactive molecules\n",
    "active_coords = [extract_coordinates(f) for f in active_sdf_files]\n",
    "inactive_coords = [extract_coordinates(f) for f in inactive_sdf_files]\n",
    "\n",
    "# Flatten the list of coordinates\n",
    "active_coords_flat = np.vstack(active_coords)\n",
    "inactive_coords_flat = np.vstack(inactive_coords)"
   ]
  },
  {
   "cell_type": "code",
   "execution_count": null,
   "metadata": {},
   "outputs": [],
   "source": [
    "# Step 3: Create heatmap data\n",
    "def create_heatmap_data(coords):\n",
    "    heatmap, xedges, yedges = np.histogram2d(coords[:,0], coords[:,1], bins=50)\n",
    "    return heatmap, xedges, yedges\n",
    "\n",
    "active_heatmap, xedges, yedges = create_heatmap_data(active_coords_flat)\n",
    "inactive_heatmap, xedges, yedges = create_heatmap_data(inactive_coords_flat)"
   ]
  },
  {
   "cell_type": "code",
   "execution_count": null,
   "metadata": {},
   "outputs": [],
   "source": [
    "# Plotting the heatmaps\n",
    "plt.figure(figsize=(10, 5))\n",
    "\n",
    "plt.subplot(1, 2, 1)\n",
    "sns.heatmap(active_heatmap.T, norm=Normalize(), cmap='Reds', cbar=True)\n",
    "plt.title('Active Molecules Heatmap')\n",
    "plt.xlabel('X Coordinate')\n",
    "plt.ylabel('Y Coordinate')\n",
    "\n",
    "plt.subplot(1, 2, 2)\n",
    "sns.heatmap(inactive_heatmap.T, norm=Normalize(), cmap='Blues', cbar=True)\n",
    "plt.title('Inactive Molecules Heatmap')\n",
    "plt.xlabel('X Coordinate')\n",
    "plt.ylabel('Y Coordinate')\n",
    "\n",
    "plt.tight_layout()\n",
    "plt.show()"
   ]
  },
  {
   "cell_type": "code",
   "execution_count": null,
   "metadata": {},
   "outputs": [],
   "source": [
    "# Step 4: Load GLP-1 structure in PyMOL\n",
    "print(\"Loading GLP1\")\n",
    "cmd.load(\"GLP1.pdb\")\n",
    "\n",
    "# Creating heatmap for active molecules\n",
    "print(\"Creating heatmap for actives...\")\n",
    "create_heatmap_pymol_parallel(active_coords_flat, 'active_coords', 'red')"
   ]
  },
  {
   "cell_type": "code",
   "execution_count": null,
   "metadata": {},
   "outputs": [],
   "source": [
    "# Creating heatmap for inactive molecules\n",
    "create_heatmap_pymol_parallel(inactive_coords_flat, 'inactive_coords', 'blue')\n",
    "\n",
    "# Adjusting visualization\n",
    "cmd.bg_color('white')\n",
    "cmd.show('cartoon', 'GLP1')\n",
    "cmd.color('green', 'GLP1')\n",
    "cmd.zoom()\n",
    "\n",
    "pymol.cmd.png(\"heatmap_visualization.png\")  # Save the visualization as an image"
   ]
  }
 ],
 "metadata": {
  "kernelspec": {
   "display_name": "diffdock2",
   "language": "python",
   "name": "python3"
  },
  "language_info": {
   "codemirror_mode": {
    "name": "ipython",
    "version": 3
   },
   "file_extension": ".py",
   "mimetype": "text/x-python",
   "name": "python",
   "nbconvert_exporter": "python",
   "pygments_lexer": "ipython3",
   "version": "3.9.19"
  }
 },
 "nbformat": 4,
 "nbformat_minor": 2
}
